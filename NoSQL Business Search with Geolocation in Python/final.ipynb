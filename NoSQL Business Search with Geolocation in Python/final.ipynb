{
 "cells": [
  {
   "cell_type": "code",
   "execution_count": 1,
   "metadata": {},
   "outputs": [],
   "source": [
    "from unqlite import UnQLite\n",
    "\n",
    "db = UnQLite('sample.db')\n",
    "data = db.collection('data')"
   ]
  },
  {
   "cell_type": "code",
   "execution_count": 2,
   "metadata": {},
   "outputs": [],
   "source": [
    "import math\n",
    "\n",
    "def to_radians(degrees):\n",
    "    return degrees * (math.pi / 180)\n",
    "\n",
    "def FindBusinessBasedOnCity(cityToSearch, saveLocation, collection):\n",
    "    businesses = collection.filter(lambda business: business['city'].lower() == cityToSearch.lower())\n",
    "    with open(saveLocation, 'w') as file:\n",
    "        for business in businesses:\n",
    "            file.write(f\"{business['name']}${business['full_address']}${business['city']}${business['state']}\\n\")\n",
    "\n",
    "def haversine_distance(lat1, lon1, lat2, lon2):\n",
    "    R = 3959\n",
    "    φ1, φ2 = map(to_radians, [lat1, lat2])\n",
    "    Δφ = to_radians(lat2 - lat1)\n",
    "    Δλ = to_radians(lon2 - lon1)\n",
    "    a = math.sin(Δφ / 2) ** 2 + math.cos(φ1) * math.cos(φ2) * math.sin(Δλ / 2) ** 2\n",
    "    c = 2 * math.atan2(math.sqrt(a), math.sqrt(1 - a))\n",
    "    return R * c\n",
    "\n",
    "def is_within_distance(business, myLocation, maxDistance):\n",
    "    business_lat, business_lon = business['latitude'], business['longitude']\n",
    "    distance = haversine_distance(myLocation[0], myLocation[1], business_lat, business_lon)\n",
    "    return distance <= maxDistance\n",
    "\n",
    "def FindBusinessBasedOnLocation(categoriesToSearch, myLocation, maxDistance, saveLocation, collection):\n",
    "    businesses = collection.filter(\n",
    "        lambda business: any(category in business['categories'] for category in categoriesToSearch) and\n",
    "                         is_within_distance(business, myLocation, maxDistance)\n",
    "    )\n",
    "    with open(saveLocation, 'w') as file:\n",
    "        for business in businesses:\n",
    "            file.write(f\"{business['name']}\\n\")\n"
   ]
  },
  {
   "cell_type": "code",
   "execution_count": 3,
   "metadata": {},
   "outputs": [
    {
     "name": "stdout",
     "output_type": "stream",
     "text": [
      "Correct! You FindBusinessByCity function passes these test cases. This does not cover all possible test edge cases, however, so make sure that your function covers them before submitting!\n"
     ]
    }
   ],
   "source": [
    "true_results = [\"VinciTorio's Restaurant$1835 E Elliot Rd, Ste C109, Tempe, AZ 85284$Tempe$AZ\", \"P.croissants$7520 S Rural Rd, Tempe, AZ 85283$Tempe$AZ\", \"Salt Creek Home$1725 W Ruby Dr, Tempe, AZ 85284$Tempe$AZ\"]\n",
    "\n",
    "try:\n",
    "    FindBusinessBasedOnCity('Tempe', 'output_city.txt', data)\n",
    "except NameError as e:\n",
    "    print ('The FindBusinessBasedOnCity function is not defined! You must run the cell containing the function before running this evaluation cell.')\n",
    "except TypeError as e:\n",
    "    print (\"The FindBusinessBasedOnCity function is supposed to accept three arguments. Yours does not!\")\n",
    "    \n",
    "try:\n",
    "    opf = open('output_city.txt', 'r')\n",
    "except FileNotFoundError as e:\n",
    "    print (\"The FindBusinessBasedOnCity function does not write data to the correct location.\")\n",
    "    \n",
    "lines = opf.readlines()\n",
    "if len(lines) != 3:\n",
    "    print (\"The FindBusinessBasedOnCity function does not find the correct number of results, should be 3.\")\n",
    "    \n",
    "lines = [line.strip() for line in lines]\n",
    "if sorted(lines) == sorted(true_results):\n",
    "    print (\"Correct! You FindBusinessByCity function passes these test cases. This does not cover all possible test edge cases, however, so make sure that your function covers them before submitting!\")"
   ]
  },
  {
   "cell_type": "code",
   "execution_count": 4,
   "metadata": {},
   "outputs": [
    {
     "name": "stdout",
     "output_type": "stream",
     "text": [
      "Correct! Your FindBusinessBasedOnLocation function passes these test cases. This does not cover all possible edge cases, so make sure your function does before submitting.\n"
     ]
    }
   ],
   "source": [
    "true_results = [\"VinciTorio's Restaurant\"]\n",
    "\n",
    "try:\n",
    "    FindBusinessBasedOnLocation(['Buffets'], [33.3482589, -111.9088346], 10, 'output_loc.txt', data)\n",
    "except NameError as e: \n",
    "    print ('The FindBusinessBasedOnLocation function is not defined! You must run the cell containing the function before running this evaluation cell.')\n",
    "except TypeError as e:\n",
    "    print (\"The FindBusinessBasedOnLocation function is supposed to accept five arguments. Yours does not!\")\n",
    "    \n",
    "try:\n",
    "    opf = open('output_loc.txt','r')\n",
    "except FileNotFoundError as e:\n",
    "    print (\"The FindBusinessBasedOnLocation function does not write data to the correct location.\")\n",
    "\n",
    "lines = opf.readlines()\n",
    "if len(lines) != 1:\n",
    "    print (\"The FindBusinessBasedOnLocation function does not find the correct number of results, should be only 1.\")\n",
    "\n",
    "if lines[0].strip() == true_results[0]:\n",
    "    print (\"Correct! Your FindBusinessBasedOnLocation function passes these test cases. This does not cover all possible edge cases, so make sure your function does before submitting.\")"
   ]
  },
  {
   "cell_type": "code",
   "execution_count": 5,
   "metadata": {},
   "outputs": [
    {
     "name": "stdout",
     "output_type": "stream",
     "text": [
      "Correct! The FindBusinessBasedOnCity function passes these test cases. This does not cover all possible test edge cases, however, so make sure that your function covers them before submitting!\n"
     ]
    }
   ],
   "source": [
    "# Test case for the FindBusinessBasedOnCity function\n",
    "true_results = [\n",
    "    '3 Palms$7707 E McDowell Rd, Scottsdale, AZ 85257$Scottsdale$AZ',\n",
    "    \"Bob's Bike Shop$1608 N Miller Rd, Scottsdale, AZ 85257$Scottsdale$AZ\",\n",
    "    'Ronan & Tagart, PLC$8980 E Raintree Dr, Ste 120, Scottsdale, AZ 85260$Scottsdale$AZ',\n",
    "    \"Sangria's$7700 E McCormick Pkwy, Scottsdale, AZ 85258$Scottsdale$AZ\",\n",
    "    'Turf Direct$8350 E Evans Rd, Scottsdale, AZ 85260$Scottsdale$AZ'\n",
    "]\n",
    "\n",
    "try: \n",
    "    FindBusinessBasedOnCity('Scottsdale', 'output_city.txt', data)\n",
    "    with open('output_city.txt', 'r') as opf: \n",
    "        lines = opf.readlines()\n",
    "    lines = [line.strip() for line in lines]\n",
    "    if sorted(lines) != sorted(true_results):\n",
    "        print(\"The FindBusinessBasedOnCity function's output is incorrect.\")\n",
    "    else:\n",
    "        print(\"Correct! The FindBusinessBasedOnCity function passes these test cases. This does not cover all possible test edge cases, however, so make sure that your function covers them before submitting!\")\n",
    "except NameError as e:\n",
    "    print('The FindBusinessBasedOnCity function is not defined! You must run the cell containing the function before running this evaluation cell.')\n",
    "except TypeError as e:\n",
    "    print(e)\n",
    "    print(\"The FindBusinessBasedOnCity function is supposed to accept three arguments. Yours does not!\")\n",
    "except FileNotFoundError as e:\n",
    "    print(\"The FindBusinessBasedOnCity function does not write data to the correct location.\")\n"
   ]
  },
  {
   "cell_type": "code",
   "execution_count": 6,
   "metadata": {},
   "outputs": [
    {
     "name": "stdout",
     "output_type": "stream",
     "text": [
      "Correct! Your FindBusinessByCity function passes these test cases. This does not cover all possible test edge cases, however, so make sure that your function covers them before submitting!\n"
     ]
    }
   ],
   "source": [
    "# Test case for the FindBusinessBasedOnCity function\n",
    "true_results = [\n",
    "    'Arizona Exterminating Co.$521 E Broadway Rd, Mesa, AZ 85204$Mesa$AZ',\n",
    "    'Bikram Yoga$1940 W 8th St, Ste 111, Mesa, AZ 85202$Mesa$AZ',\n",
    "    \"Denny's Restaurant$1330 S Power Rd, Mesa, AZ 85206$Mesa$AZ\",\n",
    "    'Diamondback Gymnastics$7211 E Southern Avenue, Mesa, AZ 85209$Mesa$AZ',\n",
    "    'Southeast Valley Medical Group$1950 S Country Club Dr, Mesa, AZ 85210$Mesa$AZ',\n",
    "    'Spa Pima$2150 S Power Rd, Mesa, AZ 85209$Mesa$AZ',\n",
    "    'The Seafood Market$1910 S Gilbert Rd, Mesa, AZ 85204$Mesa$AZ'\n",
    "]\n",
    "\n",
    "try:\n",
    "    FindBusinessBasedOnCity('Mesa', 'output_city.txt', data)\n",
    "    with open('output_city.txt', 'r') as opf:\n",
    "        lines = opf.readlines()\n",
    "    lines = [line.strip() for line in lines]\n",
    "    if len(lines) != 7:\n",
    "        print(\"The FindBusinessBasedOnCity function does not find the correct number of results, should be 7.\")\n",
    "    if sorted(lines) == sorted(true_results):\n",
    "        print(\"Correct! Your FindBusinessByCity function passes these test cases. This does not cover all possible test edge cases, however, so make sure that your function covers them before submitting!\")\n",
    "    else:\n",
    "        print(\"The FindBusinessBasedOnCity function's output is incorrect.\")\n",
    "except NameError as e:\n",
    "    print('The FindBusinessBasedOnCity function is not defined! You must run the cell containing the function before running this evaluation cell.')\n",
    "except TypeError as e:\n",
    "    print(e)\n",
    "    print(\"The FindBusinessBasedOnCity function is supposed to accept three arguments. Yours does not!\")\n",
    "except FileNotFoundError as e:\n",
    "    print(\"The FindBusinessBasedOnCity function does not write data to the correct location.\")\n"
   ]
  },
  {
   "cell_type": "code",
   "execution_count": 7,
   "metadata": {},
   "outputs": [
    {
     "name": "stdout",
     "output_type": "stream",
     "text": [
      "Correct! Your FindBusinessBasedOnLocation function passes these test cases. This does not cover all possible edge cases, so make sure your function does before submitting.\n"
     ]
    }
   ],
   "source": [
    "# Test case for the FindBusinessBasedOnLocation function\n",
    "true_results = ['The Seafood Market']\n",
    "\n",
    "try: \n",
    "    FindBusinessBasedOnLocation(['Specialty Food'], [33.3482589, -111.9088346], 10, 'output_loc.txt', data) \n",
    "    with open('output_loc.txt','r') as opf: \n",
    "        lines = opf.readlines()\n",
    "    lines = [line.strip() for line in lines]\n",
    "    if len(lines) != 1:\n",
    "        print(\"The FindBusinessBasedOnLocation function does not find the correct number of results, should be only 1.\") \n",
    "    else:\n",
    "        if sorted(lines) == sorted(true_results):\n",
    "            print(\"Correct! Your FindBusinessBasedOnLocation function passes these test cases. This does not cover all possible edge cases, so make sure your function does before submitting.\")\n",
    "        else:\n",
    "            print(\"The output is incorrect for FindBusinessBasedOnLocation function.\")\n",
    "except NameError as e: \n",
    "    print('The FindBusinessBasedOnLocation function is not defined! You must run the cell containing the function before running this evaluation cell.') \n",
    "except TypeError as e: \n",
    "    print(e)\n",
    "    print(\"The FindBusinessBasedOnLocation function is supposed to accept five arguments. Yours does not!\") \n",
    "except FileNotFoundError as e: \n",
    "    print(\"The FindBusinessBasedOnLocation function does not write data to the correct location.\")\n"
   ]
  },
  {
   "cell_type": "code",
   "execution_count": 8,
   "metadata": {},
   "outputs": [
    {
     "name": "stdout",
     "output_type": "stream",
     "text": [
      "Correct! Your FindBusinessBasedOnLocation function passes these test cases. This does not cover all possible edge cases, so make sure your function does before submitting.\n"
     ]
    }
   ],
   "source": [
    "# Test case for the FindBusinessBasedOnLocation function\n",
    "true_results = ['P.croissants']\n",
    "\n",
    "try: \n",
    "    FindBusinessBasedOnLocation(['Bakeries'], [33.3482589, -111.9088346], 10, 'output_loc.txt', data) \n",
    "    with open('output_loc.txt','r') as opf: \n",
    "        lines = opf.readlines()\n",
    "    lines = [line.strip() for line in lines]\n",
    "    if len(lines) != 1: \n",
    "        print(\"The FindBusinessBasedOnLocation function does not find the correct number of results, should be only 1.\")\n",
    "    else:\n",
    "        if sorted(lines) == sorted(true_results): \n",
    "            print(\"Correct! Your FindBusinessBasedOnLocation function passes these test cases. This does not cover all possible edge cases, so make sure your function does before submitting.\")\n",
    "        else:\n",
    "            print(\"The output is incorrect for FindBusinessBasedOnLocation function.\")\n",
    "except NameError as e: \n",
    "    print('The FindBusinessBasedOnLocation function is not defined! You must run the cell containing the function before running this evaluation cell.') \n",
    "except TypeError as e: \n",
    "    print(e)\n",
    "    print(\"The FindBusinessBasedOnLocation function is supposed to accept five arguments. Yours does not!\")\n",
    "except FileNotFoundError as e: \n",
    "    print(\"The FindBusinessBasedOnLocation function does not write data to the correct location.\")\n"
   ]
  },
  {
   "cell_type": "code",
   "execution_count": 9,
   "metadata": {},
   "outputs": [
    {
     "name": "stdout",
     "output_type": "stream",
     "text": [
      "Correct! Your FindBusinessBasedOnLocation function passes these test cases. This does not cover all possible edge cases, so make sure your function does before submitting.\n"
     ]
    }
   ],
   "source": [
    "# Test case for the FindBusinessBasedOnLocation function with multiple results\n",
    "true_results = ['The Seafood Market', 'P.croissants']\n",
    "\n",
    "try: \n",
    "    FindBusinessBasedOnLocation(['Food', 'Specialty Food'], [33.3482589, -111.9088346], 10, 'output_loc.txt', data) \n",
    "    with open('output_loc.txt','r') as opf: \n",
    "        lines = opf.readlines()\n",
    "    lines = [line.strip() for line in lines]\n",
    "    if len(lines) != 2: \n",
    "        print(\"The FindBusinessBasedOnLocation function does not find the correct number of results, should be 2.\")\n",
    "    else:\n",
    "        if sorted(lines) == sorted(true_results): \n",
    "            print(\"Correct! Your FindBusinessBasedOnLocation function passes these test cases. This does not cover all possible edge cases, so make sure your function does before submitting.\")\n",
    "        else:\n",
    "            print(\"The output is incorrect for FindBusinessBasedOnLocation function.\")\n",
    "except NameError as e: \n",
    "    print('The FindBusinessBasedOnLocation function is not defined! You must run the cell containing the function before running this evaluation cell.') \n",
    "except TypeError as e: \n",
    "    print(e)\n",
    "    print(\"The FindBusinessBasedOnLocation function is supposed to accept five arguments. Yours does not!\")\n",
    "except FileNotFoundError as e: \n",
    "    print(\"The FindBusinessBasedOnLocation function does not write data to the correct location.\")\n"
   ]
  }
 ],
 "metadata": {
  "kernelspec": {
   "display_name": "Python 3 (ipykernel)",
   "language": "python",
   "name": "python3"
  },
  "language_info": {
   "codemirror_mode": {
    "name": "ipython",
    "version": 3
   },
   "file_extension": ".py",
   "mimetype": "text/x-python",
   "name": "python",
   "nbconvert_exporter": "python",
   "pygments_lexer": "ipython3",
   "version": "3.9.13"
  }
 },
 "nbformat": 4,
 "nbformat_minor": 2
}
